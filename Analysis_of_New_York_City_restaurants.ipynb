{
  "nbformat": 4,
  "nbformat_minor": 0,
  "metadata": {
    "colab": {
      "provenance": []
    },
    "kernelspec": {
      "name": "python3",
      "display_name": "Python 3"
    },
    "language_info": {
      "name": "python"
    }
  },
  "cells": [
    {
      "cell_type": "code",
      "execution_count": 4,
      "metadata": {
        "id": "UwDHty8OtK6R"
      },
      "outputs": [],
      "source": [
        "import pandas as pd\n",
        "import numpy as np\n",
        "import matplotlib.pyplot as plt\n",
        "import seaborn as sns\n",
        "%matplotlib inline"
      ]
    },
    {
      "cell_type": "code",
      "source": [
        "df=pd.read_csv('/content/food_order.csv', encoding='latin-1')\n",
        "df.head()"
      ],
      "metadata": {
        "colab": {
          "base_uri": "https://localhost:8080/",
          "height": 206
        },
        "id": "xas2KL-FuL7x",
        "outputId": "4fd07d95-9279-4769-fc24-2f35e550c0d8"
      },
      "execution_count": 5,
      "outputs": [
        {
          "output_type": "execute_result",
          "data": {
            "text/plain": [
              "   order_id  customer_id            restaurant_name cuisine_type  \\\n",
              "0   1477147       337525                    Hangawi       Korean   \n",
              "1   1477685       358141  Blue Ribbon Sushi Izakaya     Japanese   \n",
              "2   1477070        66393                Cafe Habana      Mexican   \n",
              "3   1477334       106968  Blue Ribbon Fried Chicken     American   \n",
              "4   1478249        76942           Dirty Bird to Go     American   \n",
              "\n",
              "   cost_of_the_order day_of_the_week     rating  food_preparation_time  \\\n",
              "0              30.75         Weekend  Not given                     25   \n",
              "1              12.08         Weekend  Not given                     25   \n",
              "2              12.23         Weekday          5                     23   \n",
              "3              29.20         Weekend          3                     25   \n",
              "4              11.59         Weekday          4                     25   \n",
              "\n",
              "   delivery_time  \n",
              "0             20  \n",
              "1             23  \n",
              "2             28  \n",
              "3             15  \n",
              "4             24  "
            ],
            "text/html": [
              "\n",
              "  <div id=\"df-c5e13765-7e85-4a12-948e-6fad17e6ea69\">\n",
              "    <div class=\"colab-df-container\">\n",
              "      <div>\n",
              "<style scoped>\n",
              "    .dataframe tbody tr th:only-of-type {\n",
              "        vertical-align: middle;\n",
              "    }\n",
              "\n",
              "    .dataframe tbody tr th {\n",
              "        vertical-align: top;\n",
              "    }\n",
              "\n",
              "    .dataframe thead th {\n",
              "        text-align: right;\n",
              "    }\n",
              "</style>\n",
              "<table border=\"1\" class=\"dataframe\">\n",
              "  <thead>\n",
              "    <tr style=\"text-align: right;\">\n",
              "      <th></th>\n",
              "      <th>order_id</th>\n",
              "      <th>customer_id</th>\n",
              "      <th>restaurant_name</th>\n",
              "      <th>cuisine_type</th>\n",
              "      <th>cost_of_the_order</th>\n",
              "      <th>day_of_the_week</th>\n",
              "      <th>rating</th>\n",
              "      <th>food_preparation_time</th>\n",
              "      <th>delivery_time</th>\n",
              "    </tr>\n",
              "  </thead>\n",
              "  <tbody>\n",
              "    <tr>\n",
              "      <th>0</th>\n",
              "      <td>1477147</td>\n",
              "      <td>337525</td>\n",
              "      <td>Hangawi</td>\n",
              "      <td>Korean</td>\n",
              "      <td>30.75</td>\n",
              "      <td>Weekend</td>\n",
              "      <td>Not given</td>\n",
              "      <td>25</td>\n",
              "      <td>20</td>\n",
              "    </tr>\n",
              "    <tr>\n",
              "      <th>1</th>\n",
              "      <td>1477685</td>\n",
              "      <td>358141</td>\n",
              "      <td>Blue Ribbon Sushi Izakaya</td>\n",
              "      <td>Japanese</td>\n",
              "      <td>12.08</td>\n",
              "      <td>Weekend</td>\n",
              "      <td>Not given</td>\n",
              "      <td>25</td>\n",
              "      <td>23</td>\n",
              "    </tr>\n",
              "    <tr>\n",
              "      <th>2</th>\n",
              "      <td>1477070</td>\n",
              "      <td>66393</td>\n",
              "      <td>Cafe Habana</td>\n",
              "      <td>Mexican</td>\n",
              "      <td>12.23</td>\n",
              "      <td>Weekday</td>\n",
              "      <td>5</td>\n",
              "      <td>23</td>\n",
              "      <td>28</td>\n",
              "    </tr>\n",
              "    <tr>\n",
              "      <th>3</th>\n",
              "      <td>1477334</td>\n",
              "      <td>106968</td>\n",
              "      <td>Blue Ribbon Fried Chicken</td>\n",
              "      <td>American</td>\n",
              "      <td>29.20</td>\n",
              "      <td>Weekend</td>\n",
              "      <td>3</td>\n",
              "      <td>25</td>\n",
              "      <td>15</td>\n",
              "    </tr>\n",
              "    <tr>\n",
              "      <th>4</th>\n",
              "      <td>1478249</td>\n",
              "      <td>76942</td>\n",
              "      <td>Dirty Bird to Go</td>\n",
              "      <td>American</td>\n",
              "      <td>11.59</td>\n",
              "      <td>Weekday</td>\n",
              "      <td>4</td>\n",
              "      <td>25</td>\n",
              "      <td>24</td>\n",
              "    </tr>\n",
              "  </tbody>\n",
              "</table>\n",
              "</div>\n",
              "      <button class=\"colab-df-convert\" onclick=\"convertToInteractive('df-c5e13765-7e85-4a12-948e-6fad17e6ea69')\"\n",
              "              title=\"Convert this dataframe to an interactive table.\"\n",
              "              style=\"display:none;\">\n",
              "        \n",
              "  <svg xmlns=\"http://www.w3.org/2000/svg\" height=\"24px\"viewBox=\"0 0 24 24\"\n",
              "       width=\"24px\">\n",
              "    <path d=\"M0 0h24v24H0V0z\" fill=\"none\"/>\n",
              "    <path d=\"M18.56 5.44l.94 2.06.94-2.06 2.06-.94-2.06-.94-.94-2.06-.94 2.06-2.06.94zm-11 1L8.5 8.5l.94-2.06 2.06-.94-2.06-.94L8.5 2.5l-.94 2.06-2.06.94zm10 10l.94 2.06.94-2.06 2.06-.94-2.06-.94-.94-2.06-.94 2.06-2.06.94z\"/><path d=\"M17.41 7.96l-1.37-1.37c-.4-.4-.92-.59-1.43-.59-.52 0-1.04.2-1.43.59L10.3 9.45l-7.72 7.72c-.78.78-.78 2.05 0 2.83L4 21.41c.39.39.9.59 1.41.59.51 0 1.02-.2 1.41-.59l7.78-7.78 2.81-2.81c.8-.78.8-2.07 0-2.86zM5.41 20L4 18.59l7.72-7.72 1.47 1.35L5.41 20z\"/>\n",
              "  </svg>\n",
              "      </button>\n",
              "      \n",
              "  <style>\n",
              "    .colab-df-container {\n",
              "      display:flex;\n",
              "      flex-wrap:wrap;\n",
              "      gap: 12px;\n",
              "    }\n",
              "\n",
              "    .colab-df-convert {\n",
              "      background-color: #E8F0FE;\n",
              "      border: none;\n",
              "      border-radius: 50%;\n",
              "      cursor: pointer;\n",
              "      display: none;\n",
              "      fill: #1967D2;\n",
              "      height: 32px;\n",
              "      padding: 0 0 0 0;\n",
              "      width: 32px;\n",
              "    }\n",
              "\n",
              "    .colab-df-convert:hover {\n",
              "      background-color: #E2EBFA;\n",
              "      box-shadow: 0px 1px 2px rgba(60, 64, 67, 0.3), 0px 1px 3px 1px rgba(60, 64, 67, 0.15);\n",
              "      fill: #174EA6;\n",
              "    }\n",
              "\n",
              "    [theme=dark] .colab-df-convert {\n",
              "      background-color: #3B4455;\n",
              "      fill: #D2E3FC;\n",
              "    }\n",
              "\n",
              "    [theme=dark] .colab-df-convert:hover {\n",
              "      background-color: #434B5C;\n",
              "      box-shadow: 0px 1px 3px 1px rgba(0, 0, 0, 0.15);\n",
              "      filter: drop-shadow(0px 1px 2px rgba(0, 0, 0, 0.3));\n",
              "      fill: #FFFFFF;\n",
              "    }\n",
              "  </style>\n",
              "\n",
              "      <script>\n",
              "        const buttonEl =\n",
              "          document.querySelector('#df-c5e13765-7e85-4a12-948e-6fad17e6ea69 button.colab-df-convert');\n",
              "        buttonEl.style.display =\n",
              "          google.colab.kernel.accessAllowed ? 'block' : 'none';\n",
              "\n",
              "        async function convertToInteractive(key) {\n",
              "          const element = document.querySelector('#df-c5e13765-7e85-4a12-948e-6fad17e6ea69');\n",
              "          const dataTable =\n",
              "            await google.colab.kernel.invokeFunction('convertToInteractive',\n",
              "                                                     [key], {});\n",
              "          if (!dataTable) return;\n",
              "\n",
              "          const docLinkHtml = 'Like what you see? Visit the ' +\n",
              "            '<a target=\"_blank\" href=https://colab.research.google.com/notebooks/data_table.ipynb>data table notebook</a>'\n",
              "            + ' to learn more about interactive tables.';\n",
              "          element.innerHTML = '';\n",
              "          dataTable['output_type'] = 'display_data';\n",
              "          await google.colab.output.renderOutput(dataTable, element);\n",
              "          const docLink = document.createElement('div');\n",
              "          docLink.innerHTML = docLinkHtml;\n",
              "          element.appendChild(docLink);\n",
              "        }\n",
              "      </script>\n",
              "    </div>\n",
              "  </div>\n",
              "  "
            ]
          },
          "metadata": {},
          "execution_count": 5
        }
      ]
    },
    {
      "cell_type": "code",
      "source": [
        "df.columns"
      ],
      "metadata": {
        "colab": {
          "base_uri": "https://localhost:8080/"
        },
        "id": "w8gsn76Vvm8P",
        "outputId": "6265244a-8277-4696-bf69-5c7a368654b9"
      },
      "execution_count": 6,
      "outputs": [
        {
          "output_type": "execute_result",
          "data": {
            "text/plain": [
              "Index(['order_id', 'customer_id', 'restaurant_name', 'cuisine_type',\n",
              "       'cost_of_the_order', 'day_of_the_week', 'rating',\n",
              "       'food_preparation_time', 'delivery_time'],\n",
              "      dtype='object')"
            ]
          },
          "metadata": {},
          "execution_count": 6
        }
      ]
    },
    {
      "cell_type": "code",
      "source": [
        "df.info()"
      ],
      "metadata": {
        "colab": {
          "base_uri": "https://localhost:8080/"
        },
        "id": "GlH0JdYKwO3h",
        "outputId": "fbd33fc8-2735-4f81-905d-c6e2c62e787f"
      },
      "execution_count": 7,
      "outputs": [
        {
          "output_type": "stream",
          "name": "stdout",
          "text": [
            "<class 'pandas.core.frame.DataFrame'>\n",
            "RangeIndex: 1898 entries, 0 to 1897\n",
            "Data columns (total 9 columns):\n",
            " #   Column                 Non-Null Count  Dtype  \n",
            "---  ------                 --------------  -----  \n",
            " 0   order_id               1898 non-null   int64  \n",
            " 1   customer_id            1898 non-null   int64  \n",
            " 2   restaurant_name        1898 non-null   object \n",
            " 3   cuisine_type           1898 non-null   object \n",
            " 4   cost_of_the_order      1898 non-null   float64\n",
            " 5   day_of_the_week        1898 non-null   object \n",
            " 6   rating                 1898 non-null   object \n",
            " 7   food_preparation_time  1898 non-null   int64  \n",
            " 8   delivery_time          1898 non-null   int64  \n",
            "dtypes: float64(1), int64(4), object(4)\n",
            "memory usage: 133.6+ KB\n"
          ]
        }
      ]
    },
    {
      "cell_type": "code",
      "source": [
        "df.describe()"
      ],
      "metadata": {
        "colab": {
          "base_uri": "https://localhost:8080/",
          "height": 300
        },
        "id": "Si6pvxW4vpvq",
        "outputId": "5c5fd4bc-a6d2-47f3-98f5-1f7ecf21b0ac"
      },
      "execution_count": 8,
      "outputs": [
        {
          "output_type": "execute_result",
          "data": {
            "text/plain": [
              "           order_id    customer_id  cost_of_the_order  food_preparation_time  \\\n",
              "count  1.898000e+03    1898.000000        1898.000000            1898.000000   \n",
              "mean   1.477496e+06  171168.478398          16.498851              27.371970   \n",
              "std    5.480497e+02  113698.139743           7.483812               4.632481   \n",
              "min    1.476547e+06    1311.000000           4.470000              20.000000   \n",
              "25%    1.477021e+06   77787.750000          12.080000              23.000000   \n",
              "50%    1.477496e+06  128600.000000          14.140000              27.000000   \n",
              "75%    1.477970e+06  270525.000000          22.297500              31.000000   \n",
              "max    1.478444e+06  405334.000000          35.410000              35.000000   \n",
              "\n",
              "       delivery_time  \n",
              "count    1898.000000  \n",
              "mean       24.161749  \n",
              "std         4.972637  \n",
              "min        15.000000  \n",
              "25%        20.000000  \n",
              "50%        25.000000  \n",
              "75%        28.000000  \n",
              "max        33.000000  "
            ],
            "text/html": [
              "\n",
              "  <div id=\"df-f6d69ad2-eca7-419d-8fdd-63ef836db014\">\n",
              "    <div class=\"colab-df-container\">\n",
              "      <div>\n",
              "<style scoped>\n",
              "    .dataframe tbody tr th:only-of-type {\n",
              "        vertical-align: middle;\n",
              "    }\n",
              "\n",
              "    .dataframe tbody tr th {\n",
              "        vertical-align: top;\n",
              "    }\n",
              "\n",
              "    .dataframe thead th {\n",
              "        text-align: right;\n",
              "    }\n",
              "</style>\n",
              "<table border=\"1\" class=\"dataframe\">\n",
              "  <thead>\n",
              "    <tr style=\"text-align: right;\">\n",
              "      <th></th>\n",
              "      <th>order_id</th>\n",
              "      <th>customer_id</th>\n",
              "      <th>cost_of_the_order</th>\n",
              "      <th>food_preparation_time</th>\n",
              "      <th>delivery_time</th>\n",
              "    </tr>\n",
              "  </thead>\n",
              "  <tbody>\n",
              "    <tr>\n",
              "      <th>count</th>\n",
              "      <td>1.898000e+03</td>\n",
              "      <td>1898.000000</td>\n",
              "      <td>1898.000000</td>\n",
              "      <td>1898.000000</td>\n",
              "      <td>1898.000000</td>\n",
              "    </tr>\n",
              "    <tr>\n",
              "      <th>mean</th>\n",
              "      <td>1.477496e+06</td>\n",
              "      <td>171168.478398</td>\n",
              "      <td>16.498851</td>\n",
              "      <td>27.371970</td>\n",
              "      <td>24.161749</td>\n",
              "    </tr>\n",
              "    <tr>\n",
              "      <th>std</th>\n",
              "      <td>5.480497e+02</td>\n",
              "      <td>113698.139743</td>\n",
              "      <td>7.483812</td>\n",
              "      <td>4.632481</td>\n",
              "      <td>4.972637</td>\n",
              "    </tr>\n",
              "    <tr>\n",
              "      <th>min</th>\n",
              "      <td>1.476547e+06</td>\n",
              "      <td>1311.000000</td>\n",
              "      <td>4.470000</td>\n",
              "      <td>20.000000</td>\n",
              "      <td>15.000000</td>\n",
              "    </tr>\n",
              "    <tr>\n",
              "      <th>25%</th>\n",
              "      <td>1.477021e+06</td>\n",
              "      <td>77787.750000</td>\n",
              "      <td>12.080000</td>\n",
              "      <td>23.000000</td>\n",
              "      <td>20.000000</td>\n",
              "    </tr>\n",
              "    <tr>\n",
              "      <th>50%</th>\n",
              "      <td>1.477496e+06</td>\n",
              "      <td>128600.000000</td>\n",
              "      <td>14.140000</td>\n",
              "      <td>27.000000</td>\n",
              "      <td>25.000000</td>\n",
              "    </tr>\n",
              "    <tr>\n",
              "      <th>75%</th>\n",
              "      <td>1.477970e+06</td>\n",
              "      <td>270525.000000</td>\n",
              "      <td>22.297500</td>\n",
              "      <td>31.000000</td>\n",
              "      <td>28.000000</td>\n",
              "    </tr>\n",
              "    <tr>\n",
              "      <th>max</th>\n",
              "      <td>1.478444e+06</td>\n",
              "      <td>405334.000000</td>\n",
              "      <td>35.410000</td>\n",
              "      <td>35.000000</td>\n",
              "      <td>33.000000</td>\n",
              "    </tr>\n",
              "  </tbody>\n",
              "</table>\n",
              "</div>\n",
              "      <button class=\"colab-df-convert\" onclick=\"convertToInteractive('df-f6d69ad2-eca7-419d-8fdd-63ef836db014')\"\n",
              "              title=\"Convert this dataframe to an interactive table.\"\n",
              "              style=\"display:none;\">\n",
              "        \n",
              "  <svg xmlns=\"http://www.w3.org/2000/svg\" height=\"24px\"viewBox=\"0 0 24 24\"\n",
              "       width=\"24px\">\n",
              "    <path d=\"M0 0h24v24H0V0z\" fill=\"none\"/>\n",
              "    <path d=\"M18.56 5.44l.94 2.06.94-2.06 2.06-.94-2.06-.94-.94-2.06-.94 2.06-2.06.94zm-11 1L8.5 8.5l.94-2.06 2.06-.94-2.06-.94L8.5 2.5l-.94 2.06-2.06.94zm10 10l.94 2.06.94-2.06 2.06-.94-2.06-.94-.94-2.06-.94 2.06-2.06.94z\"/><path d=\"M17.41 7.96l-1.37-1.37c-.4-.4-.92-.59-1.43-.59-.52 0-1.04.2-1.43.59L10.3 9.45l-7.72 7.72c-.78.78-.78 2.05 0 2.83L4 21.41c.39.39.9.59 1.41.59.51 0 1.02-.2 1.41-.59l7.78-7.78 2.81-2.81c.8-.78.8-2.07 0-2.86zM5.41 20L4 18.59l7.72-7.72 1.47 1.35L5.41 20z\"/>\n",
              "  </svg>\n",
              "      </button>\n",
              "      \n",
              "  <style>\n",
              "    .colab-df-container {\n",
              "      display:flex;\n",
              "      flex-wrap:wrap;\n",
              "      gap: 12px;\n",
              "    }\n",
              "\n",
              "    .colab-df-convert {\n",
              "      background-color: #E8F0FE;\n",
              "      border: none;\n",
              "      border-radius: 50%;\n",
              "      cursor: pointer;\n",
              "      display: none;\n",
              "      fill: #1967D2;\n",
              "      height: 32px;\n",
              "      padding: 0 0 0 0;\n",
              "      width: 32px;\n",
              "    }\n",
              "\n",
              "    .colab-df-convert:hover {\n",
              "      background-color: #E2EBFA;\n",
              "      box-shadow: 0px 1px 2px rgba(60, 64, 67, 0.3), 0px 1px 3px 1px rgba(60, 64, 67, 0.15);\n",
              "      fill: #174EA6;\n",
              "    }\n",
              "\n",
              "    [theme=dark] .colab-df-convert {\n",
              "      background-color: #3B4455;\n",
              "      fill: #D2E3FC;\n",
              "    }\n",
              "\n",
              "    [theme=dark] .colab-df-convert:hover {\n",
              "      background-color: #434B5C;\n",
              "      box-shadow: 0px 1px 3px 1px rgba(0, 0, 0, 0.15);\n",
              "      filter: drop-shadow(0px 1px 2px rgba(0, 0, 0, 0.3));\n",
              "      fill: #FFFFFF;\n",
              "    }\n",
              "  </style>\n",
              "\n",
              "      <script>\n",
              "        const buttonEl =\n",
              "          document.querySelector('#df-f6d69ad2-eca7-419d-8fdd-63ef836db014 button.colab-df-convert');\n",
              "        buttonEl.style.display =\n",
              "          google.colab.kernel.accessAllowed ? 'block' : 'none';\n",
              "\n",
              "        async function convertToInteractive(key) {\n",
              "          const element = document.querySelector('#df-f6d69ad2-eca7-419d-8fdd-63ef836db014');\n",
              "          const dataTable =\n",
              "            await google.colab.kernel.invokeFunction('convertToInteractive',\n",
              "                                                     [key], {});\n",
              "          if (!dataTable) return;\n",
              "\n",
              "          const docLinkHtml = 'Like what you see? Visit the ' +\n",
              "            '<a target=\"_blank\" href=https://colab.research.google.com/notebooks/data_table.ipynb>data table notebook</a>'\n",
              "            + ' to learn more about interactive tables.';\n",
              "          element.innerHTML = '';\n",
              "          dataTable['output_type'] = 'display_data';\n",
              "          await google.colab.output.renderOutput(dataTable, element);\n",
              "          const docLink = document.createElement('div');\n",
              "          docLink.innerHTML = docLinkHtml;\n",
              "          element.appendChild(docLink);\n",
              "        }\n",
              "      </script>\n",
              "    </div>\n",
              "  </div>\n",
              "  "
            ]
          },
          "metadata": {},
          "execution_count": 8
        }
      ]
    },
    {
      "cell_type": "markdown",
      "source": [
        "##Missing Values"
      ],
      "metadata": {
        "id": "jS00F8zZxdI4"
      }
    },
    {
      "cell_type": "code",
      "source": [
        "df.isnull().sum()"
      ],
      "metadata": {
        "colab": {
          "base_uri": "https://localhost:8080/"
        },
        "id": "WlO0pouevsy5",
        "outputId": "729ef395-bed9-43e7-99b7-0037410ba833"
      },
      "execution_count": 9,
      "outputs": [
        {
          "output_type": "execute_result",
          "data": {
            "text/plain": [
              "order_id                 0\n",
              "customer_id              0\n",
              "restaurant_name          0\n",
              "cuisine_type             0\n",
              "cost_of_the_order        0\n",
              "day_of_the_week          0\n",
              "rating                   0\n",
              "food_preparation_time    0\n",
              "delivery_time            0\n",
              "dtype: int64"
            ]
          },
          "metadata": {},
          "execution_count": 9
        }
      ]
    },
    {
      "cell_type": "code",
      "source": [
        "sns.heatmap(df.isnull(),yticklabels=False,cbar=False,cmap='viridis')"
      ],
      "metadata": {
        "colab": {
          "base_uri": "https://localhost:8080/",
          "height": 385
        },
        "id": "I4hzQUJk2gDW",
        "outputId": "2e1d182d-a3fd-41b9-f2cc-73c20f61331c"
      },
      "execution_count": 10,
      "outputs": [
        {
          "output_type": "execute_result",
          "data": {
            "text/plain": [
              "<AxesSubplot:>"
            ]
          },
          "metadata": {},
          "execution_count": 10
        },
        {
          "output_type": "display_data",
          "data": {
            "text/plain": [
              "<Figure size 432x288 with 1 Axes>"
            ],
            "image/png": "[encoded data removed]"
          },
          "metadata": {
            "needs_background": "light"
          }
        }
      ]
    },
    {
      "cell_type": "code",
      "source": [
        "df.rating.value_counts(1)"
      ],
      "metadata": {
        "colab": {
          "base_uri": "https://localhost:8080/"
        },
        "id": "QdlCFRzqtoWT",
        "outputId": "2bd2a662-2aa4-43a1-fe61-04ca118ac679"
      },
      "execution_count": 11,
      "outputs": [
        {
          "output_type": "execute_result",
          "data": {
            "text/plain": [
              "Not given    0.387777\n",
              "5            0.309800\n",
              "4            0.203372\n",
              "3            0.099052\n",
              "Name: rating, dtype: float64"
            ]
          },
          "metadata": {},
          "execution_count": 11
        }
      ]
    },
    {
      "cell_type": "code",
      "source": [
        "day_delivery = df[[\"delivery_time\", \"day_of_the_week\"]].groupby(\"day_of_the_week\").mean()\n",
        "print(day_delivery)"
      ],
      "metadata": {
        "colab": {
          "base_uri": "https://localhost:8080/"
        },
        "id": "Cr5-ZlTv1j2i",
        "outputId": "c92ebb77-f362-4062-a163-fb65fb0780e8"
      },
      "execution_count": 12,
      "outputs": [
        {
          "output_type": "stream",
          "name": "stdout",
          "text": [
            "                 delivery_time\n",
            "day_of_the_week               \n",
            "Weekday              28.340037\n",
            "Weekend              22.470022\n"
          ]
        }
      ]
    },
    {
      "cell_type": "markdown",
      "source": [
        "The average delivery time is low on weekends."
      ],
      "metadata": {
        "id": "LL9_I11A1sP8"
      }
    },
    {
      "cell_type": "code",
      "source": [
        "preparation_time = df[[\"food_preparation_time\", \"day_of_the_week\"]].groupby(\"day_of_the_week\").mean()\n",
        "print(preparation_time)"
      ],
      "metadata": {
        "colab": {
          "base_uri": "https://localhost:8080/"
        },
        "id": "BFmTgsNq1nmp",
        "outputId": "b91cbe2d-49b6-4318-db2d-1c70edad41d0"
      },
      "execution_count": 13,
      "outputs": [
        {
          "output_type": "stream",
          "name": "stdout",
          "text": [
            "                 food_preparation_time\n",
            "day_of_the_week                       \n",
            "Weekday                      27.212066\n",
            "Weekend                      27.436714\n"
          ]
        }
      ]
    },
    {
      "cell_type": "markdown",
      "source": [
        "The average food preparation is almost same on weekdays and weekends."
      ],
      "metadata": {
        "id": "4H0srZCH11Hv"
      }
    },
    {
      "cell_type": "markdown",
      "source": [
        "##Analysis of oder preparation time"
      ],
      "metadata": {
        "id": "TQmpyJnp5YxA"
      }
    },
    {
      "cell_type": "code",
      "source": [
        "df.food_preparation_time.describe()"
      ],
      "metadata": {
        "colab": {
          "base_uri": "https://localhost:8080/"
        },
        "id": "7qlpGcFK5lcL",
        "outputId": "09e84860-1e94-4be4-d773-2e1faaa31936"
      },
      "execution_count": 28,
      "outputs": [
        {
          "output_type": "execute_result",
          "data": {
            "text/plain": [
              "count    1898.000000\n",
              "mean       27.371970\n",
              "std         4.632481\n",
              "min        20.000000\n",
              "25%        23.000000\n",
              "50%        27.000000\n",
              "75%        31.000000\n",
              "max        35.000000\n",
              "Name: food_preparation_time, dtype: float64"
            ]
          },
          "metadata": {},
          "execution_count": 28
        }
      ]
    },
    {
      "cell_type": "code",
      "source": [
        "df_sorted = df.sort_values(by='food_preparation_time')\n",
        "top_ten = df_sorted.head(10)\n",
        "\n",
        "plt.barh(top_ten['restaurant_name'], top_ten['food_preparation_time'])\n",
        "plt.xlabel('Food Preparation Time (minutes)')\n",
        "plt.ylabel('Restaurant Name')\n",
        "plt.title('Top Ten Restaurants with Fastest Food Preparation Time')"
      ],
      "metadata": {
        "colab": {
          "base_uri": "https://localhost:8080/",
          "height": 434
        },
        "id": "X-SRPuhH6GuV",
        "outputId": "31b74971-0b93-4231-b840-d679ba4b833b"
      },
      "execution_count": 31,
      "outputs": [
        {
          "output_type": "execute_result",
          "data": {
            "text/plain": [
              "Text(0.5, 1.0, 'Top Ten Restaurants with Fastest Food Preparation Time')"
            ]
          },
          "metadata": {},
          "execution_count": 31
        },
        {
          "output_type": "stream",
          "name": "stderr",
          "text": [
            "/usr/local/lib/python3.9/dist-packages/IPython/core/events.py:88: UserWarning: Glyph 142 (\\x8e) missing from current font.\n",
            "  func(*args, **kwargs)\n",
            "/usr/local/lib/python3.9/dist-packages/IPython/core/events.py:88: UserWarning: Glyph 128 (\\x80) missing from current font.\n",
            "  func(*args, **kwargs)\n",
            "/usr/local/lib/python3.9/dist-packages/IPython/core/pylabtools.py:128: UserWarning: Glyph 142 (\\x8e) missing from current font.\n",
            "  fig.canvas.print_figure(bytes_io, **kw)\n",
            "/usr/local/lib/python3.9/dist-packages/IPython/core/pylabtools.py:128: UserWarning: Glyph 128 (\\x80) missing from current font.\n",
            "  fig.canvas.print_figure(bytes_io, **kw)\n"
          ]
        },
        {
          "output_type": "display_data",
          "data": {
            "text/plain": [
              "<Figure size 432x288 with 1 Axes>"
            ],
            "image/png": "[encoded data removed]"
          },
          "metadata": {
            "needs_background": "light"
          }
        }
      ]
    },
    {
      "cell_type": "markdown",
      "source": [
        "Minimum food preparation time : 20 minuites\n",
        "Maximum Food preparation time : 35 minuites"
      ],
      "metadata": {
        "id": "MnFLIz5P3Lf8"
      }
    },
    {
      "cell_type": "markdown",
      "source": [
        "##Analysis of delivery time"
      ],
      "metadata": {
        "id": "NLhHrdXD4O27"
      }
    },
    {
      "cell_type": "code",
      "source": [
        "df.delivery_time.describe()"
      ],
      "metadata": {
        "colab": {
          "base_uri": "https://localhost:8080/"
        },
        "id": "if_9aWDZ4Tpf",
        "outputId": "a446390d-79d1-41d4-db2a-73b10ae2a2f3"
      },
      "execution_count": 23,
      "outputs": [
        {
          "output_type": "execute_result",
          "data": {
            "text/plain": [
              "count    1898.000000\n",
              "mean       24.161749\n",
              "std         4.972637\n",
              "min        15.000000\n",
              "25%        20.000000\n",
              "50%        25.000000\n",
              "75%        28.000000\n",
              "max        33.000000\n",
              "Name: delivery_time, dtype: float64"
            ]
          },
          "metadata": {},
          "execution_count": 23
        }
      ]
    },
    {
      "cell_type": "code",
      "source": [
        "average_meal_delivery_time = df.groupby('cuisine_type').mean()\n",
        "average_meal_delivery_time = average_meal_delivery_time.reset_index('cuisine_type')\n",
        "average_meal_delivery_time"
      ],
      "metadata": {
        "colab": {
          "base_uri": "https://localhost:8080/",
          "height": 488
        },
        "id": "S4qqJX-N4XIu",
        "outputId": "ac4bcd80-94d2-4faa-bf74-a72dd9f5d556"
      },
      "execution_count": 24,
      "outputs": [
        {
          "output_type": "execute_result",
          "data": {
            "text/plain": [
              "      cuisine_type      order_id    customer_id  cost_of_the_order  \\\n",
              "0         American  1.477489e+06  184169.683219          16.319829   \n",
              "1          Chinese  1.477530e+06  180480.855814          16.305209   \n",
              "2           French  1.477438e+06  158138.722222          19.793889   \n",
              "3           Indian  1.477493e+06  162106.397260          16.919726   \n",
              "4          Italian  1.477528e+06  159568.305369          16.418691   \n",
              "5         Japanese  1.477485e+06  161493.955319          16.304532   \n",
              "6           Korean  1.477426e+06  226702.000000          14.001538   \n",
              "7    Mediterranean  1.477483e+06  115908.130435          15.474783   \n",
              "8          Mexican  1.477446e+06  181453.545455          16.933117   \n",
              "9   Middle Eastern  1.477412e+06  168839.938776          18.820612   \n",
              "10        Southern  1.477533e+06  140340.117647          19.300588   \n",
              "11         Spanish  1.477497e+06  180333.500000          18.994167   \n",
              "12            Thai  1.477628e+06  202825.157895          19.207895   \n",
              "13      Vietnamese  1.477389e+06  208296.142857          12.882857   \n",
              "\n",
              "    food_preparation_time  delivery_time  order_completion_time  \n",
              "0               27.440068      24.193493              51.633562  \n",
              "1               27.511628      23.855814              51.367442  \n",
              "2               26.888889      25.333333              52.222222  \n",
              "3               27.109589      24.082192              51.191781  \n",
              "4               27.483221      24.567114              52.050336  \n",
              "5               27.510638      24.131915              51.642553  \n",
              "6               25.461538      20.923077              46.384615  \n",
              "7               27.000000      23.586957              50.586957  \n",
              "8               26.727273      24.389610              51.116883  \n",
              "9               26.673469      24.081633              50.755102  \n",
              "10              27.588235      23.823529              51.411765  \n",
              "11              26.916667      23.416667              50.333333  \n",
              "12              27.315789      23.157895              50.473684  \n",
              "13              25.714286      26.142857              51.857143  "
            ],
            "text/html": [
              "\n",
              "  <div id=\"df-596845f9-2969-4838-b2c4-47218d7eae58\">\n",
              "    <div class=\"colab-df-container\">\n",
              "      <div>\n",
              "<style scoped>\n",
              "    .dataframe tbody tr th:only-of-type {\n",
              "        vertical-align: middle;\n",
              "    }\n",
              "\n",
              "    .dataframe tbody tr th {\n",
              "        vertical-align: top;\n",
              "    }\n",
              "\n",
              "    .dataframe thead th {\n",
              "        text-align: right;\n",
              "    }\n",
              "</style>\n",
              "<table border=\"1\" class=\"dataframe\">\n",
              "  <thead>\n",
              "    <tr style=\"text-align: right;\">\n",
              "      <th></th>\n",
              "      <th>cuisine_type</th>\n",
              "      <th>order_id</th>\n",
              "      <th>customer_id</th>\n",
              "      <th>cost_of_the_order</th>\n",
              "      <th>food_preparation_time</th>\n",
              "      <th>delivery_time</th>\n",
              "      <th>order_completion_time</th>\n",
              "    </tr>\n",
              "  </thead>\n",
              "  <tbody>\n",
              "    <tr>\n",
              "      <th>0</th>\n",
              "      <td>American</td>\n",
              "      <td>1.477489e+06</td>\n",
              "      <td>184169.683219</td>\n",
              "      <td>16.319829</td>\n",
              "      <td>27.440068</td>\n",
              "      <td>24.193493</td>\n",
              "      <td>51.633562</td>\n",
              "    </tr>\n",
              "    <tr>\n",
              "      <th>1</th>\n",
              "      <td>Chinese</td>\n",
              "      <td>1.477530e+06</td>\n",
              "      <td>180480.855814</td>\n",
              "      <td>16.305209</td>\n",
              "      <td>27.511628</td>\n",
              "      <td>23.855814</td>\n",
              "      <td>51.367442</td>\n",
              "    </tr>\n",
              "    <tr>\n",
              "      <th>2</th>\n",
              "      <td>French</td>\n",
              "      <td>1.477438e+06</td>\n",
              "      <td>158138.722222</td>\n",
              "      <td>19.793889</td>\n",
              "      <td>26.888889</td>\n",
              "      <td>25.333333</td>\n",
              "      <td>52.222222</td>\n",
              "    </tr>\n",
              "    <tr>\n",
              "      <th>3</th>\n",
              "      <td>Indian</td>\n",
              "      <td>1.477493e+06</td>\n",
              "      <td>162106.397260</td>\n",
              "      <td>16.919726</td>\n",
              "      <td>27.109589</td>\n",
              "      <td>24.082192</td>\n",
              "      <td>51.191781</td>\n",
              "    </tr>\n",
              "    <tr>\n",
              "      <th>4</th>\n",
              "      <td>Italian</td>\n",
              "      <td>1.477528e+06</td>\n",
              "      <td>159568.305369</td>\n",
              "      <td>16.418691</td>\n",
              "      <td>27.483221</td>\n",
              "      <td>24.567114</td>\n",
              "      <td>52.050336</td>\n",
              "    </tr>\n",
              "    <tr>\n",
              "      <th>5</th>\n",
              "      <td>Japanese</td>\n",
              "      <td>1.477485e+06</td>\n",
              "      <td>161493.955319</td>\n",
              "      <td>16.304532</td>\n",
              "      <td>27.510638</td>\n",
              "      <td>24.131915</td>\n",
              "      <td>51.642553</td>\n",
              "    </tr>\n",
              "    <tr>\n",
              "      <th>6</th>\n",
              "      <td>Korean</td>\n",
              "      <td>1.477426e+06</td>\n",
              "      <td>226702.000000</td>\n",
              "      <td>14.001538</td>\n",
              "      <td>25.461538</td>\n",
              "      <td>20.923077</td>\n",
              "      <td>46.384615</td>\n",
              "    </tr>\n",
              "    <tr>\n",
              "      <th>7</th>\n",
              "      <td>Mediterranean</td>\n",
              "      <td>1.477483e+06</td>\n",
              "      <td>115908.130435</td>\n",
              "      <td>15.474783</td>\n",
              "      <td>27.000000</td>\n",
              "      <td>23.586957</td>\n",
              "      <td>50.586957</td>\n",
              "    </tr>\n",
              "    <tr>\n",
              "      <th>8</th>\n",
              "      <td>Mexican</td>\n",
              "      <td>1.477446e+06</td>\n",
              "      <td>181453.545455</td>\n",
              "      <td>16.933117</td>\n",
              "      <td>26.727273</td>\n",
              "      <td>24.389610</td>\n",
              "      <td>51.116883</td>\n",
              "    </tr>\n",
              "    <tr>\n",
              "      <th>9</th>\n",
              "      <td>Middle Eastern</td>\n",
              "      <td>1.477412e+06</td>\n",
              "      <td>168839.938776</td>\n",
              "      <td>18.820612</td>\n",
              "      <td>26.673469</td>\n",
              "      <td>24.081633</td>\n",
              "      <td>50.755102</td>\n",
              "    </tr>\n",
              "    <tr>\n",
              "      <th>10</th>\n",
              "      <td>Southern</td>\n",
              "      <td>1.477533e+06</td>\n",
              "      <td>140340.117647</td>\n",
              "      <td>19.300588</td>\n",
              "      <td>27.588235</td>\n",
              "      <td>23.823529</td>\n",
              "      <td>51.411765</td>\n",
              "    </tr>\n",
              "    <tr>\n",
              "      <th>11</th>\n",
              "      <td>Spanish</td>\n",
              "      <td>1.477497e+06</td>\n",
              "      <td>180333.500000</td>\n",
              "      <td>18.994167</td>\n",
              "      <td>26.916667</td>\n",
              "      <td>23.416667</td>\n",
              "      <td>50.333333</td>\n",
              "    </tr>\n",
              "    <tr>\n",
              "      <th>12</th>\n",
              "      <td>Thai</td>\n",
              "      <td>1.477628e+06</td>\n",
              "      <td>202825.157895</td>\n",
              "      <td>19.207895</td>\n",
              "      <td>27.315789</td>\n",
              "      <td>23.157895</td>\n",
              "      <td>50.473684</td>\n",
              "    </tr>\n",
              "    <tr>\n",
              "      <th>13</th>\n",
              "      <td>Vietnamese</td>\n",
              "      <td>1.477389e+06</td>\n",
              "      <td>208296.142857</td>\n",
              "      <td>12.882857</td>\n",
              "      <td>25.714286</td>\n",
              "      <td>26.142857</td>\n",
              "      <td>51.857143</td>\n",
              "    </tr>\n",
              "  </tbody>\n",
              "</table>\n",
              "</div>\n",
              "      <button class=\"colab-df-convert\" onclick=\"convertToInteractive('df-596845f9-2969-4838-b2c4-47218d7eae58')\"\n",
              "              title=\"Convert this dataframe to an interactive table.\"\n",
              "              style=\"display:none;\">\n",
              "        \n",
              "  <svg xmlns=\"http://www.w3.org/2000/svg\" height=\"24px\"viewBox=\"0 0 24 24\"\n",
              "       width=\"24px\">\n",
              "    <path d=\"M0 0h24v24H0V0z\" fill=\"none\"/>\n",
              "    <path d=\"M18.56 5.44l.94 2.06.94-2.06 2.06-.94-2.06-.94-.94-2.06-.94 2.06-2.06.94zm-11 1L8.5 8.5l.94-2.06 2.06-.94-2.06-.94L8.5 2.5l-.94 2.06-2.06.94zm10 10l.94 2.06.94-2.06 2.06-.94-2.06-.94-.94-2.06-.94 2.06-2.06.94z\"/><path d=\"M17.41 7.96l-1.37-1.37c-.4-.4-.92-.59-1.43-.59-.52 0-1.04.2-1.43.59L10.3 9.45l-7.72 7.72c-.78.78-.78 2.05 0 2.83L4 21.41c.39.39.9.59 1.41.59.51 0 1.02-.2 1.41-.59l7.78-7.78 2.81-2.81c.8-.78.8-2.07 0-2.86zM5.41 20L4 18.59l7.72-7.72 1.47 1.35L5.41 20z\"/>\n",
              "  </svg>\n",
              "      </button>\n",
              "      \n",
              "  <style>\n",
              "    .colab-df-container {\n",
              "      display:flex;\n",
              "      flex-wrap:wrap;\n",
              "      gap: 12px;\n",
              "    }\n",
              "\n",
              "    .colab-df-convert {\n",
              "      background-color: #E8F0FE;\n",
              "      border: none;\n",
              "      border-radius: 50%;\n",
              "      cursor: pointer;\n",
              "      display: none;\n",
              "      fill: #1967D2;\n",
              "      height: 32px;\n",
              "      padding: 0 0 0 0;\n",
              "      width: 32px;\n",
              "    }\n",
              "\n",
              "    .colab-df-convert:hover {\n",
              "      background-color: #E2EBFA;\n",
              "      box-shadow: 0px 1px 2px rgba(60, 64, 67, 0.3), 0px 1px 3px 1px rgba(60, 64, 67, 0.15);\n",
              "      fill: #174EA6;\n",
              "    }\n",
              "\n",
              "    [theme=dark] .colab-df-convert {\n",
              "      background-color: #3B4455;\n",
              "      fill: #D2E3FC;\n",
              "    }\n",
              "\n",
              "    [theme=dark] .colab-df-convert:hover {\n",
              "      background-color: #434B5C;\n",
              "      box-shadow: 0px 1px 3px 1px rgba(0, 0, 0, 0.15);\n",
              "      filter: drop-shadow(0px 1px 2px rgba(0, 0, 0, 0.3));\n",
              "      fill: #FFFFFF;\n",
              "    }\n",
              "  </style>\n",
              "\n",
              "      <script>\n",
              "        const buttonEl =\n",
              "          document.querySelector('#df-596845f9-2969-4838-b2c4-47218d7eae58 button.colab-df-convert');\n",
              "        buttonEl.style.display =\n",
              "          google.colab.kernel.accessAllowed ? 'block' : 'none';\n",
              "\n",
              "        async function convertToInteractive(key) {\n",
              "          const element = document.querySelector('#df-596845f9-2969-4838-b2c4-47218d7eae58');\n",
              "          const dataTable =\n",
              "            await google.colab.kernel.invokeFunction('convertToInteractive',\n",
              "                                                     [key], {});\n",
              "          if (!dataTable) return;\n",
              "\n",
              "          const docLinkHtml = 'Like what you see? Visit the ' +\n",
              "            '<a target=\"_blank\" href=https://colab.research.google.com/notebooks/data_table.ipynb>data table notebook</a>'\n",
              "            + ' to learn more about interactive tables.';\n",
              "          element.innerHTML = '';\n",
              "          dataTable['output_type'] = 'display_data';\n",
              "          await google.colab.output.renderOutput(dataTable, element);\n",
              "          const docLink = document.createElement('div');\n",
              "          docLink.innerHTML = docLinkHtml;\n",
              "          element.appendChild(docLink);\n",
              "        }\n",
              "      </script>\n",
              "    </div>\n",
              "  </div>\n",
              "  "
            ]
          },
          "metadata": {},
          "execution_count": 24
        }
      ]
    },
    {
      "cell_type": "code",
      "source": [
        "average_meal_delivery_time_plot = sns.barplot(x='cuisine_type', y='delivery_time', data=average_meal_delivery_time)\n",
        "plt.setp(average_meal_delivery_time_plot.get_xticklabels(), rotation=90)\n",
        "average_meal_delivery_time_plot.set(xlabel='Cuisine Type', ylabel='Delivery Time')\n",
        "plt.show()"
      ],
      "metadata": {
        "colab": {
          "base_uri": "https://localhost:8080/",
          "height": 344
        },
        "id": "na5t1J4l4Zp3",
        "outputId": "a372e9fb-6146-447b-c09a-4c4851aa5893"
      },
      "execution_count": 25,
      "outputs": [
        {
          "output_type": "display_data",
          "data": {
            "text/plain": [
              "<Figure size 432x288 with 1 Axes>"
            ],
            "image/png": "[encoded data removed]"
          },
          "metadata": {
            "needs_background": "light"
          }
        }
      ]
    },
    {
      "cell_type": "code",
      "source": [
        "\n",
        "print('Minimum delivery time :',min(df['delivery_time']))\n",
        "print('Maximum delivery time :',max(df['delivery_time']))\n",
        "print('Average delivery time :',mean(df['delivery_time']))\n",
        "\n",
        "print(df.sort_values('delivery_time').head(5))"
      ],
      "metadata": {
        "colab": {
          "base_uri": "https://localhost:8080/"
        },
        "id": "_Aikjpg332AW",
        "outputId": "2624e99d-c106-4581-d0e4-863b1edf42b6"
      },
      "execution_count": 27,
      "outputs": [
        {
          "output_type": "stream",
          "name": "stdout",
          "text": [
            "Minimum delivery time : 15\n",
            "Maximum delivery time : 33\n",
            "Average delivery time : 24.161749209694417\n",
            "      order_id  customer_id           restaurant_name    cuisine_type  \\\n",
            "424    1477066       376381               Shake Shack        American   \n",
            "658    1477544       113972            RedFarm Hudson         Chinese   \n",
            "241    1476789       103005  Yama Japanese Restaurant        Japanese   \n",
            "1088   1476834       176622              Cafe Mogador  Middle Eastern   \n",
            "1776   1477694       192317               Shake Shack        American   \n",
            "\n",
            "      cost_of_the_order day_of_the_week     rating  food_preparation_time  \\\n",
            "424                8.25         Weekend  Not given                     30   \n",
            "658               19.35         Weekend          4                     31   \n",
            "241               17.08         Weekend          5                     28   \n",
            "1088               9.22         Weekend  Not given                     23   \n",
            "1776              24.30         Weekend          4                     25   \n",
            "\n",
            "      delivery_time  order_completion_time  \n",
            "424              15                     45  \n",
            "658              15                     46  \n",
            "241              15                     43  \n",
            "1088             15                     38  \n",
            "1776             15                     40  \n"
          ]
        }
      ]
    },
    {
      "cell_type": "markdown",
      "source": [
        "Minimum delivery time is 15,   \n",
        "Maximum delivery time is 33,  \n",
        "Average delivery time is 24.161749209694417"
      ],
      "metadata": {
        "id": "M6talMx74_-U"
      }
    },
    {
      "cell_type": "markdown",
      "source": [
        "##Analysis of order completion time"
      ],
      "metadata": {
        "id": "eYD8JVC35Otr"
      }
    },
    {
      "cell_type": "code",
      "source": [
        "df['order_completion_time'] = df['food_preparation_time'] + df['delivery_time']\n",
        "print(df.sort_values('order_completion_time').head(5))\n"
      ],
      "metadata": {
        "colab": {
          "base_uri": "https://localhost:8080/"
        },
        "id": "dcw0aona4_eI",
        "outputId": "dfc3087b-0c80-499b-b27f-a15d3bd814ba"
      },
      "execution_count": 17,
      "outputs": [
        {
          "output_type": "stream",
          "name": "stdout",
          "text": [
            "      order_id  customer_id               restaurant_name cuisine_type  \\\n",
            "1536   1478266       297413             The Meatball Shop      Italian   \n",
            "1720   1478070       129206              RedFarm Broadway      Chinese   \n",
            "1436   1477878        62730              Westville Hudson     American   \n",
            "432    1477737       104548  Tarallucci e Vino Restaurant      Italian   \n",
            "1093   1477739        63096                      Rubirosa      Italian   \n",
            "\n",
            "      cost_of_the_order day_of_the_week     rating  food_preparation_time  \\\n",
            "1536              16.10         Weekend  Not given                     20   \n",
            "1720              14.07         Weekend          3                     20   \n",
            "1436              21.88         Weekend          5                     20   \n",
            "432               11.59         Weekend  Not given                     21   \n",
            "1093              12.51         Weekend          5                     21   \n",
            "\n",
            "      delivery_time  order_completion_time  \n",
            "1536             15                     35  \n",
            "1720             15                     35  \n",
            "1436             15                     35  \n",
            "432              15                     36  \n",
            "1093             15                     36  \n"
          ]
        }
      ]
    },
    {
      "cell_type": "markdown",
      "source": [
        "The Meatball Shop,RedFarm Broadway, Westville Hudson have the minimum order completion time which is 35 minuites."
      ],
      "metadata": {
        "id": "wPlPsI8_3Rlx"
      }
    },
    {
      "cell_type": "code",
      "source": [
        "print(df['order_completion_time'].mean())\n",
        "print(df['order_completion_time'].max())"
      ],
      "metadata": {
        "colab": {
          "base_uri": "https://localhost:8080/"
        },
        "id": "WBDEuakd9Qvu",
        "outputId": "f707788e-f80f-48a9-f4c8-51751dab237c"
      },
      "execution_count": 18,
      "outputs": [
        {
          "output_type": "stream",
          "name": "stdout",
          "text": [
            "51.53371970495258\n",
            "68\n"
          ]
        }
      ]
    },
    {
      "cell_type": "markdown",
      "source": [
        "The average order completion time is 51 minuites and the maximum order completion time is 68 minuites "
      ],
      "metadata": {
        "id": "kiKWwTO29bPE"
      }
    },
    {
      "cell_type": "markdown",
      "source": [
        "To find the ratings of the restaurants based on the cuisine. First remove the restaurants whose rating is not given. Plot remaining restaurants based on their ratings and cuisine type."
      ],
      "metadata": {
        "id": "-VU_uEKJvPUm"
      }
    },
    {
      "cell_type": "markdown",
      "source": [
        "Analysis of restaurants based on ratings"
      ],
      "metadata": {
        "id": "TUaB5ctY6cBe"
      }
    },
    {
      "cell_type": "code",
      "source": [
        "df_s = df[df['rating'] != 'Not given']\n",
        "\n",
        "plt.figure(figsize = (10,10))\n",
        "x = sns.countplot(x = 'cuisine_type', hue = 'rating', data = df_s, color = 'darkblue')\n",
        "plt.xticks(rotation = 100)"
      ],
      "metadata": {
        "colab": {
          "base_uri": "https://localhost:8080/",
          "height": 931
        },
        "id": "1FZuLfYBuSV7",
        "outputId": "0e20bf9a-8420-4661-90e3-27a02ba766fd"
      },
      "execution_count": 19,
      "outputs": [
        {
          "output_type": "execute_result",
          "data": {
            "text/plain": [
              "(array([ 0,  1,  2,  3,  4,  5,  6,  7,  8,  9, 10, 11, 12, 13]),\n",
              " [Text(0, 0, 'Mexican'),\n",
              "  Text(1, 0, 'American'),\n",
              "  Text(2, 0, 'Indian'),\n",
              "  Text(3, 0, 'Mediterranean'),\n",
              "  Text(4, 0, 'Chinese'),\n",
              "  Text(5, 0, 'Japanese'),\n",
              "  Text(6, 0, 'Middle Eastern'),\n",
              "  Text(7, 0, 'Italian'),\n",
              "  Text(8, 0, 'Thai'),\n",
              "  Text(9, 0, 'Southern'),\n",
              "  Text(10, 0, 'Spanish'),\n",
              "  Text(11, 0, 'French'),\n",
              "  Text(12, 0, 'Korean'),\n",
              "  Text(13, 0, 'Vietnamese')])"
            ]
          },
          "metadata": {},
          "execution_count": 19
        },
        {
          "output_type": "display_data",
          "data": {
            "text/plain": [
              "<Figure size 720x720 with 1 Axes>"
            ],
            "image/png": "[encoded data removed]"
          },
          "metadata": {
            "needs_background": "light"
          }
        }
      ]
    },
    {
      "cell_type": "markdown",
      "source": [
        "From the above plot,American,Japanese and Italian restaurants have maximum number of high ratings. "
      ],
      "metadata": {
        "id": "TWh9CJmvvrUc"
      }
    },
    {
      "cell_type": "code",
      "source": [
        "chart = sns.barplot(x = 'cuisine_type', y = 'cost_of_the_order',data = df)\n",
        "plt.xticks(rotation = 100)\n",
        "plt.show()"
      ],
      "metadata": {
        "colab": {
          "base_uri": "https://localhost:8080/",
          "height": 345
        },
        "id": "MALjgTz9viGR",
        "outputId": "e3005be7-32b0-400f-a70e-dab1395d0ed1"
      },
      "execution_count": 20,
      "outputs": [
        {
          "output_type": "display_data",
          "data": {
            "text/plain": [
              "<Figure size 432x288 with 1 Axes>"
            ],
            "image/png": "[encoded data removed]"
          },
          "metadata": {
            "needs_background": "light"
          }
        }
      ]
    },
    {
      "cell_type": "code",
      "source": [
        "df.shape"
      ],
      "metadata": {
        "colab": {
          "base_uri": "https://localhost:8080/"
        },
        "id": "mKZ5HOGazutn",
        "outputId": "6d29a480-87c3-4d5d-8601-25a6e50dc3d2"
      },
      "execution_count": 21,
      "outputs": [
        {
          "output_type": "execute_result",
          "data": {
            "text/plain": [
              "(1898, 10)"
            ]
          },
          "metadata": {},
          "execution_count": 21
        }
      ]
    },
    {
      "cell_type": "code",
      "source": [
        "y = np.array(df[\"day_of_the_week\"].value_counts())\n",
        "\n",
        "\n",
        "ylabels = [\"Weekend\", \"Weekday\"]\n",
        "plt.pie(y, labels = ylabels)\n",
        "plt.legend(title = \"Food Orders\")\n",
        "plt.show() "
      ],
      "metadata": {
        "colab": {
          "base_uri": "https://localhost:8080/",
          "height": 248
        },
        "id": "PLTFXLpazQ1Q",
        "outputId": "838a70e4-67a7-442f-8998-9fd9f693cab7"
      },
      "execution_count": 22,
      "outputs": [
        {
          "output_type": "display_data",
          "data": {
            "text/plain": [
              "<Figure size 432x288 with 1 Axes>"
            ],
            "image/png": "[encoded data removed]"
          },
          "metadata": {}
        }
      ]
    },
    {
      "cell_type": "markdown",
      "source": [
        "There are more food orders on weekends than weekdays."
      ],
      "metadata": {
        "id": "skTLRj2g2N5x"
      }
    },
    {
      "cell_type": "code",
      "source": [
        "df.cuisine_type.value_counts()\n",
        "df.groupby('cuisine_type')['cost_of_the_order'].mean()"
      ],
      "metadata": {
        "colab": {
          "base_uri": "https://localhost:8080/"
        },
        "id": "FftM7tZU7dDL",
        "outputId": "db73b94b-fc72-4409-d9f3-8e14af064f16"
      },
      "execution_count": 32,
      "outputs": [
        {
          "output_type": "execute_result",
          "data": {
            "text/plain": [
              "cuisine_type\n",
              "American          16.319829\n",
              "Chinese           16.305209\n",
              "French            19.793889\n",
              "Indian            16.919726\n",
              "Italian           16.418691\n",
              "Japanese          16.304532\n",
              "Korean            14.001538\n",
              "Mediterranean     15.474783\n",
              "Mexican           16.933117\n",
              "Middle Eastern    18.820612\n",
              "Southern          19.300588\n",
              "Spanish           18.994167\n",
              "Thai              19.207895\n",
              "Vietnamese        12.882857\n",
              "Name: cost_of_the_order, dtype: float64"
            ]
          },
          "metadata": {},
          "execution_count": 32
        }
      ]
    },
    {
      "cell_type": "markdown",
      "source": [
        "#Evaluation"
      ],
      "metadata": {
        "id": "rbaz27lx7OnJ"
      }
    },
    {
      "cell_type": "markdown",
      "source": [
        "###What is the average meal preparation time?\n",
        "The average meal preparation time is 27 minuites which is almost same on Weekdays and on weekends.\n",
        "\n",
        "###What is the fastest time in preparing a meal?\n",
        "The minimum preparation time is 20 minuites and many restaurant has it.\n",
        "\n",
        "###What is the maximum preparation time?\n",
        "The maximum food prepataion time is 35 minuites\n",
        "\n",
        "###What is the quickest delivery time?\n",
        "The minimum food delivery time is 15 minuites.\n",
        "Shake Shack,RedFarm Hudson,Westville Hudson,Yama Japanese Restaurant has minimum delivery time.\n",
        "\n",
        "###What is the worst case possibilty in terms of time for delivery?\n",
        "The maximum food delivery time is 33 minuites\n",
        "\n",
        "###What is the average delivery time?\n",
        "The maximum food delivery time is 24 minuites\n",
        "\n",
        "###On an average how much time before should I order my food?\n",
        "The average order completion time is 51 minuites.\n",
        "\n",
        "###What is the maximum order completion time?\n",
        "the maximum order completion time is 68 minuites \n",
        "\n",
        "###If you are too hungry which restaurant will be the fastest? and how much time?\n",
        "You can order from these 3 restaurants The Meatball Shop,RedFarm Broadway, Westville Hudson which will take upto 35 minuites.\n",
        "\n",
        "###On weekdays or weekends when restaurant should not be closed?\n",
        "On weekends the orders are more hence restaurants should not be closed on weekends.\n",
        "\n",
        "###Which cuisine should one order when he/she is too hungry?\n",
        "Korean. Because it takes least completion time.\n",
        "\n",
        "###Which cuisine is highly rated?\n",
        "American Japanese and Italian cuisines are highly rated\n",
        "\n",
        "###Minimum how much money would one need to have food?\n",
        "One should have atleast $13 and he/she can have Vietnamese food because It costs the minimum.\n",
        "\n",
        "\n"
      ],
      "metadata": {
        "id": "gUBrVrdDwRWI"
      }
    }
  ]
}